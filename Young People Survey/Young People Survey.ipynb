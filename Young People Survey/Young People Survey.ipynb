{
 "cells": [
  {
   "cell_type": "code",
   "execution_count": 56,
   "metadata": {},
   "outputs": [],
   "source": [
    "import pandas as pd"
   ]
  },
  {
   "cell_type": "code",
   "execution_count": 57,
   "metadata": {},
   "outputs": [
    {
     "name": "stdout",
     "output_type": "stream",
     "text": [
      "Smoking:\n",
      "tried smoking     374\n",
      "never smoked      180\n",
      "current smoker    161\n",
      "former smoker     159\n",
      "Name: Smoking, dtype: int64\n",
      "\n",
      "Alcohol:\n",
      "social drinker    581\n",
      "drink a lot       193\n",
      "never             100\n",
      "Name: Alcohol, dtype: int64\n"
     ]
    }
   ],
   "source": [
    "Data = pd.read_csv('responses.csv')\n",
    "DataRelevantColumn = Data.iloc[:,[0,1,2,3,4,5,6,7,8,9,10,11,12,13,14,15,16,17,18,73,74,75,133,136,138,139,140,141,142,143,144,145,146,147,148,149]].copy()\n",
    "DataRelevantColumn = DataRelevantColumn.dropna()\n",
    "DataRelevantColumnMusicLifestyle = DataRelevantColumn.iloc[:,[0,1,2,3,4,5,6,7,8,9,10,11,12,13,14,15,16,17,18,19,20,21]].copy()\n",
    "print('Smoking:')\n",
    "print(DataRelevantColumnMusicLifestyle['Smoking'].value_counts())\n",
    "print()\n",
    "print('Alcohol:')\n",
    "print(DataRelevantColumnMusicLifestyle['Alcohol'].value_counts())"
   ]
  },
  {
   "cell_type": "markdown",
   "metadata": {},
   "source": [
    "We perform a unique value analysis to get the different data types involved in the column. Then, we perform mapping of the values to certain number variables."
   ]
  },
  {
   "cell_type": "code",
   "execution_count": 58,
   "metadata": {},
   "outputs": [],
   "source": [
    "mydict = {\n",
    "   \"tried smoking\":3,\n",
    "    \"never smoked\":4,\n",
    "    \"current smoker\":1,\n",
    "    \"former smoker\":2,\n",
    "    \"social drinker\":2,\n",
    "    \"drink a lot\":1,\n",
    "    \"never\":3\n",
    "}\n",
    "\n",
    "for i in [19,20]:\n",
    "    DataRelevantColumnMusicLifestyle.iloc[:, i] = DataRelevantColumnMusicLifestyle.iloc[:, i].map(mydict)"
   ]
  },
  {
   "cell_type": "markdown",
   "metadata": {},
   "source": [
    "Then we obtain a health indicator for the dataset"
   ]
  },
  {
   "cell_type": "code",
   "execution_count": 59,
   "metadata": {},
   "outputs": [],
   "source": [
    "DataRelevantColumnMusicHealthIndicator = DataRelevantColumnMusicLifestyle.copy()\n",
    "DataRelevantColumnMusicHealthIndicator[\"HI\"] = DataRelevantColumnMusicHealthIndicator[\"Smoking\"] + DataRelevantColumnMusicHealthIndicator[\"Alcohol\"] + DataRelevantColumnMusicHealthIndicator[\"Healthy eating\"]\n",
    "DataRelevantColumnMusicHealthIndicator = DataRelevantColumnMusicHealthIndicator.drop(columns=['Smoking','Alcohol','Healthy eating'])"
   ]
  },
  {
   "cell_type": "markdown",
   "metadata": {},
   "source": [
    "# Machine Learning Model to predict and analyse"
   ]
  },
  {
   "cell_type": "markdown",
   "metadata": {},
   "source": [
    "We are just done cleaning the data, now we will perform machine learning to the dataset."
   ]
  },
  {
   "cell_type": "code",
   "execution_count": 60,
   "metadata": {},
   "outputs": [],
   "source": [
    "from sklearn.model_selection import train_test_split\n",
    "\n",
    "# Importing Classifier Modules\n",
    "from sklearn.neighbors import KNeighborsClassifier\n",
    "from sklearn.tree import DecisionTreeClassifier\n",
    "from sklearn.ensemble import RandomForestClassifier\n",
    "from sklearn.naive_bayes import GaussianNB\n",
    "from sklearn.svm import SVC\n",
    "from sklearn import linear_model\n",
    "from sklearn.linear_model import LogisticRegression\n",
    "from sklearn.linear_model import LinearRegression\n",
    "\n",
    "from sklearn.model_selection import KFold\n",
    "from sklearn.model_selection import cross_val_score\n",
    "\n",
    "import numpy as np\n",
    "from sklearn.metrics import accuracy_score"
   ]
  },
  {
   "cell_type": "markdown",
   "metadata": {},
   "source": [
    "## Correlation between health index and music preferences"
   ]
  },
  {
   "cell_type": "markdown",
   "metadata": {},
   "source": [
    "Predict the health index of a person given a following music preferences"
   ]
  },
  {
   "cell_type": "code",
   "execution_count": 61,
   "metadata": {},
   "outputs": [],
   "source": [
    "target = DataRelevantColumnMusicHealthIndicator['HI'] # this is the dependent variable\n",
    "x_train, x_test, y_train, y_test = train_test_split(DataRelevantColumnMusicHealthIndicator, target, random_state = 42)\n",
    "x_train1 = x_train.drop(['HI'], axis=1)\n",
    "x_test1 = x_test.drop(['HI'], axis=1)\n",
    "k_fold = KFold(n_splits=10, shuffle=True, random_state=0)"
   ]
  },
  {
   "cell_type": "markdown",
   "metadata": {},
   "source": [
    "Using a written function to calculate the accuracy of different models"
   ]
  },
  {
   "cell_type": "code",
   "execution_count": 62,
   "metadata": {},
   "outputs": [],
   "source": [
    "def modeltraining(clf):\n",
    "    scoring = 'accuracy'\n",
    "    score = cross_val_score(clf, x_train1, y_train, cv=k_fold, n_jobs=1, scoring=scoring)\n",
    "    print(round(np.mean(score)*100, 2))"
   ]
  },
  {
   "cell_type": "markdown",
   "metadata": {},
   "source": [
    "Then we obtain the accuracy score of the different models"
   ]
  },
  {
   "cell_type": "code",
   "execution_count": 63,
   "metadata": {},
   "outputs": [
    {
     "name": "stdout",
     "output_type": "stream",
     "text": [
      "20.91\n",
      "16.49\n",
      "19.24\n",
      "8.85\n",
      "22.3\n"
     ]
    },
    {
     "name": "stderr",
     "output_type": "stream",
     "text": [
      "C:\\Users\\Iris\\Anaconda3\\envs\\sa48\\lib\\site-packages\\sklearn\\linear_model\\logistic.py:947: ConvergenceWarning: lbfgs failed to converge. Increase the number of iterations.\n",
      "  \"of iterations.\", ConvergenceWarning)\n",
      "C:\\Users\\Iris\\Anaconda3\\envs\\sa48\\lib\\site-packages\\sklearn\\linear_model\\logistic.py:947: ConvergenceWarning: lbfgs failed to converge. Increase the number of iterations.\n",
      "  \"of iterations.\", ConvergenceWarning)\n",
      "C:\\Users\\Iris\\Anaconda3\\envs\\sa48\\lib\\site-packages\\sklearn\\linear_model\\logistic.py:947: ConvergenceWarning: lbfgs failed to converge. Increase the number of iterations.\n",
      "  \"of iterations.\", ConvergenceWarning)\n",
      "C:\\Users\\Iris\\Anaconda3\\envs\\sa48\\lib\\site-packages\\sklearn\\linear_model\\logistic.py:947: ConvergenceWarning: lbfgs failed to converge. Increase the number of iterations.\n",
      "  \"of iterations.\", ConvergenceWarning)\n",
      "C:\\Users\\Iris\\Anaconda3\\envs\\sa48\\lib\\site-packages\\sklearn\\linear_model\\logistic.py:947: ConvergenceWarning: lbfgs failed to converge. Increase the number of iterations.\n",
      "  \"of iterations.\", ConvergenceWarning)\n",
      "C:\\Users\\Iris\\Anaconda3\\envs\\sa48\\lib\\site-packages\\sklearn\\linear_model\\logistic.py:947: ConvergenceWarning: lbfgs failed to converge. Increase the number of iterations.\n",
      "  \"of iterations.\", ConvergenceWarning)\n",
      "C:\\Users\\Iris\\Anaconda3\\envs\\sa48\\lib\\site-packages\\sklearn\\linear_model\\logistic.py:947: ConvergenceWarning: lbfgs failed to converge. Increase the number of iterations.\n",
      "  \"of iterations.\", ConvergenceWarning)\n",
      "C:\\Users\\Iris\\Anaconda3\\envs\\sa48\\lib\\site-packages\\sklearn\\linear_model\\logistic.py:947: ConvergenceWarning: lbfgs failed to converge. Increase the number of iterations.\n",
      "  \"of iterations.\", ConvergenceWarning)\n"
     ]
    },
    {
     "name": "stdout",
     "output_type": "stream",
     "text": [
      "22.74\n"
     ]
    },
    {
     "name": "stderr",
     "output_type": "stream",
     "text": [
      "C:\\Users\\Iris\\Anaconda3\\envs\\sa48\\lib\\site-packages\\sklearn\\linear_model\\logistic.py:947: ConvergenceWarning: lbfgs failed to converge. Increase the number of iterations.\n",
      "  \"of iterations.\", ConvergenceWarning)\n",
      "C:\\Users\\Iris\\Anaconda3\\envs\\sa48\\lib\\site-packages\\sklearn\\linear_model\\logistic.py:947: ConvergenceWarning: lbfgs failed to converge. Increase the number of iterations.\n",
      "  \"of iterations.\", ConvergenceWarning)\n"
     ]
    }
   ],
   "source": [
    "modeltraining(KNeighborsClassifier(n_neighbors = 13))\n",
    "modeltraining(DecisionTreeClassifier())\n",
    "modeltraining(RandomForestClassifier(n_estimators=13))\n",
    "modeltraining(GaussianNB())\n",
    "modeltraining(SVC(gamma='scale'))\n",
    "modeltraining(LogisticRegression(solver = 'lbfgs', multi_class = 'multinomial', random_state = 42))"
   ]
  },
  {
   "cell_type": "code",
   "execution_count": 67,
   "metadata": {},
   "outputs": [],
   "source": [
    "def svmScore(c = 1, gam = 'scale', ker ='rbf'):\n",
    "    svMachine = SVC(C = c, kernel = ker, gamma = gam)\n",
    "    svMachine.fit(x_train1, y_train)\n",
    "    y_pred = svMachine.predict(x_test1)\n",
    "    print(accuracy_score(y_test, y_pred))"
   ]
  },
  {
   "cell_type": "code",
   "execution_count": 68,
   "metadata": {},
   "outputs": [
    {
     "name": "stdout",
     "output_type": "stream",
     "text": [
      "0.2694063926940639\n",
      "0.2374429223744292\n",
      "0.2328767123287671\n"
     ]
    }
   ],
   "source": [
    "# compare different kernels\n",
    "# the gamma is default to be 1 / n_features\n",
    "kernels = ['linear', 'rbf', 'poly']\n",
    "for k in kernels:\n",
    "    svmScore(ker = k)"
   ]
  },
  {
   "cell_type": "code",
   "execution_count": 72,
   "metadata": {},
   "outputs": [
    {
     "name": "stdout",
     "output_type": "stream",
     "text": [
      "1\n",
      "0.2009132420091324\n",
      "5\n",
      "0.2146118721461187\n",
      "9\n",
      "0.2054794520547945\n",
      "13\n",
      "0.2100456621004566\n",
      "17\n",
      "0.2100456621004566\n"
     ]
    }
   ],
   "source": [
    "#Random Forest\n",
    "n_trees = np.arange(1, 20, 4) # build a array contains values form 1 to 100 with step of 4\n",
    "\n",
    "# for each n, we want to check the accuracy of random forest with n trees\n",
    "for n in n_trees:\n",
    "    rdf = RandomForestClassifier(n_estimators = n, random_state = 42)\n",
    "    rdf.fit(x_train1, y_train)\n",
    "    # we will print both the number of trees, and the accuracy score\n",
    "    print(n)\n",
    "    print(accuracy_score(y_test, rdf.predict(x_test1)))"
   ]
  },
  {
   "cell_type": "code",
   "execution_count": 73,
   "metadata": {},
   "outputs": [
    {
     "data": {
      "text/plain": [
       "RandomForestClassifier(bootstrap=True, class_weight=None, criterion='gini',\n",
       "                       max_depth=None, max_features='auto', max_leaf_nodes=None,\n",
       "                       min_impurity_decrease=0.0, min_impurity_split=None,\n",
       "                       min_samples_leaf=1, min_samples_split=2,\n",
       "                       min_weight_fraction_leaf=0.0, n_estimators=13,\n",
       "                       n_jobs=None, oob_score=False, random_state=42, verbose=0,\n",
       "                       warm_start=False)"
      ]
     },
     "execution_count": 73,
     "metadata": {},
     "output_type": "execute_result"
    }
   ],
   "source": [
    "rdForest = RandomForestClassifier(n_estimators = 13, random_state = 42)\n",
    "rdForest.fit(x_train1, y_train)"
   ]
  },
  {
   "cell_type": "markdown",
   "metadata": {},
   "source": [
    "### To predict the health indicator of a person given a following set of music preferences"
   ]
  },
  {
   "cell_type": "code",
   "execution_count": 75,
   "metadata": {},
   "outputs": [
    {
     "data": {
      "text/plain": [
       "array([4.])"
      ]
     },
     "execution_count": 75,
     "metadata": {},
     "output_type": "execute_result"
    }
   ],
   "source": [
    "rdForest.predict([[5,2,3,3,3,3,4,5,1,1,1,3,2,4,1,1,3,3,1]])"
   ]
  },
  {
   "cell_type": "markdown",
   "metadata": {},
   "source": [
    "## Given the music preferences, do people make up any clusters of similar behavior?"
   ]
  },
  {
   "cell_type": "code",
   "execution_count": 77,
   "metadata": {},
   "outputs": [],
   "source": [
    "import numpy as np\n",
    "import matplotlib.pyplot as plt\n",
    "import pandas as pd\n",
    "from sklearn import datasets"
   ]
  },
  {
   "cell_type": "code",
   "execution_count": 78,
   "metadata": {},
   "outputs": [],
   "source": [
    "MusicSimilarBehaviour = Data.iloc[:,[0,1,2,3,4,5,6,7,8,9,10,11,12,13,14,15,16,17,18]].copy()\n",
    "MusicSimilarBehaviour = MusicSimilarBehaviour.dropna()"
   ]
  },
  {
   "cell_type": "code",
   "execution_count": 79,
   "metadata": {},
   "outputs": [
    {
     "data": {
      "image/png": "[encoded data removed]",
      "text/plain": [
       "<Figure size 1800x720 with 1 Axes>"
      ]
     },
     "metadata": {},
     "output_type": "display_data"
    }
   ],
   "source": [
    "from scipy.cluster.hierarchy import dendrogram, linkage\n",
    "\n",
    "# generate the linkage matrix\n",
    "Z = linkage(MusicSimilarBehaviour, 'ward')\n",
    "\n",
    "# set cut-off to 150 cluster merges\n",
    "max_d = 7.08                # max_d as in max_distance\n",
    "\n",
    "plt.figure(figsize=(25, 10))\n",
    "plt.title('Segments of Music Goers')\n",
    "plt.xlabel('Music Group')\n",
    "plt.ylabel('distance')\n",
    "dendrogram(\n",
    "    Z,\n",
    "    truncate_mode='lastp',  # show only the last p merged clusters\n",
    "    p=150,                  # Try changing values of p\n",
    "    leaf_rotation=90.,      # rotates the x axis labels\n",
    "    leaf_font_size=8.,      # font size for the x axis labels\n",
    ")\n",
    "plt.axhline(y=max_d, c='k')\n",
    "plt.show()"
   ]
  },
  {
   "cell_type": "code",
   "execution_count": 80,
   "metadata": {},
   "outputs": [],
   "source": [
    "from sklearn.cluster import AgglomerativeClustering\n",
    "clustering = AgglomerativeClustering(linkage=\"ward\", n_clusters=4)\n",
    "clustering.fit(MusicSimilarBehaviour);"
   ]
  },
  {
   "cell_type": "code",
   "execution_count": 81,
   "metadata": {},
   "outputs": [
    {
     "data": {
      "image/png": "[encoded data removed]",
      "text/plain": [
       "<Figure size 432x288 with 1 Axes>"
      ]
     },
     "metadata": {},
     "output_type": "display_data"
    }
   ],
   "source": [
    "# MinMax scale the data so that it fits nicely onto the 0.0->1.0 axes of the plot.\n",
    "from sklearn import preprocessing\n",
    "X_plot = preprocessing.MinMaxScaler().fit_transform(MusicSimilarBehaviour)\n",
    "\n",
    "colours = 'rbgy'\n",
    "for i in range(MusicSimilarBehaviour.shape[0]):\n",
    "    plt.text(X_plot[i, 0], X_plot[i, 1], str(clustering.labels_[i]),\n",
    "             color=colours[clustering.labels_[i]],\n",
    "             fontdict={'weight': 'bold', 'size': 9}\n",
    "        )"
   ]
  },
  {
   "cell_type": "markdown",
   "metadata": {},
   "source": [
    "Append the clustering labels"
   ]
  },
  {
   "cell_type": "code",
   "execution_count": 82,
   "metadata": {},
   "outputs": [],
   "source": [
    "MusicSimilarBehaviour['labels'] = clustering.labels_"
   ]
  },
  {
   "cell_type": "code",
   "execution_count": 83,
   "metadata": {},
   "outputs": [
    {
     "data": {
      "text/html": [
       "<div>\n",
       "<style scoped>\n",
       "    .dataframe tbody tr th:only-of-type {\n",
       "        vertical-align: middle;\n",
       "    }\n",
       "\n",
       "    .dataframe tbody tr th {\n",
       "        vertical-align: top;\n",
       "    }\n",
       "\n",
       "    .dataframe thead th {\n",
       "        text-align: right;\n",
       "    }\n",
       "</style>\n",
       "<table border=\"1\" class=\"dataframe\">\n",
       "  <thead>\n",
       "    <tr style=\"text-align: right;\">\n",
       "      <th></th>\n",
       "      <th>Finances</th>\n",
       "      <th>Entertainment spending</th>\n",
       "      <th>Spending on gadgets</th>\n",
       "    </tr>\n",
       "  </thead>\n",
       "  <tbody>\n",
       "    <tr>\n",
       "      <th>0</th>\n",
       "      <td>3.0</td>\n",
       "      <td>3.0</td>\n",
       "      <td>1</td>\n",
       "    </tr>\n",
       "    <tr>\n",
       "      <th>1</th>\n",
       "      <td>3.0</td>\n",
       "      <td>4.0</td>\n",
       "      <td>5</td>\n",
       "    </tr>\n",
       "    <tr>\n",
       "      <th>2</th>\n",
       "      <td>2.0</td>\n",
       "      <td>4.0</td>\n",
       "      <td>4</td>\n",
       "    </tr>\n",
       "    <tr>\n",
       "      <th>3</th>\n",
       "      <td>2.0</td>\n",
       "      <td>3.0</td>\n",
       "      <td>4</td>\n",
       "    </tr>\n",
       "    <tr>\n",
       "      <th>4</th>\n",
       "      <td>4.0</td>\n",
       "      <td>3.0</td>\n",
       "      <td>2</td>\n",
       "    </tr>\n",
       "  </tbody>\n",
       "</table>\n",
       "</div>"
      ],
      "text/plain": [
       "   Finances  Entertainment spending  Spending on gadgets\n",
       "0       3.0                     3.0                    1\n",
       "1       3.0                     4.0                    5\n",
       "2       2.0                     4.0                    4\n",
       "3       2.0                     3.0                    4\n",
       "4       4.0                     3.0                    2"
      ]
     },
     "execution_count": 83,
     "metadata": {},
     "output_type": "execute_result"
    }
   ],
   "source": [
    "DataSpendingBehaviourWithUserCategory = DataRelevantColumn.iloc[:,[22,23,24]].copy()\n",
    "DataSpendingBehaviourWithUserCategory.head()"
   ]
  },
  {
   "cell_type": "code",
   "execution_count": 85,
   "metadata": {},
   "outputs": [],
   "source": [
    "DataSpendingBehaviourWithUserCategory[\"labels\"] = MusicSimilarBehaviour[\"labels\"]"
   ]
  },
  {
   "cell_type": "code",
   "execution_count": 86,
   "metadata": {},
   "outputs": [
    {
     "data": {
      "text/html": [
       "<div>\n",
       "<style scoped>\n",
       "    .dataframe tbody tr th:only-of-type {\n",
       "        vertical-align: middle;\n",
       "    }\n",
       "\n",
       "    .dataframe tbody tr th {\n",
       "        vertical-align: top;\n",
       "    }\n",
       "\n",
       "    .dataframe thead th {\n",
       "        text-align: right;\n",
       "    }\n",
       "</style>\n",
       "<table border=\"1\" class=\"dataframe\">\n",
       "  <thead>\n",
       "    <tr style=\"text-align: right;\">\n",
       "      <th></th>\n",
       "      <th>Finances</th>\n",
       "      <th>Entertainment spending</th>\n",
       "      <th>Spending on gadgets</th>\n",
       "      <th>labels</th>\n",
       "    </tr>\n",
       "  </thead>\n",
       "  <tbody>\n",
       "    <tr>\n",
       "      <th>0</th>\n",
       "      <td>3.0</td>\n",
       "      <td>3.0</td>\n",
       "      <td>1</td>\n",
       "      <td>0</td>\n",
       "    </tr>\n",
       "    <tr>\n",
       "      <th>1</th>\n",
       "      <td>3.0</td>\n",
       "      <td>4.0</td>\n",
       "      <td>5</td>\n",
       "      <td>2</td>\n",
       "    </tr>\n",
       "    <tr>\n",
       "      <th>2</th>\n",
       "      <td>2.0</td>\n",
       "      <td>4.0</td>\n",
       "      <td>4</td>\n",
       "      <td>1</td>\n",
       "    </tr>\n",
       "    <tr>\n",
       "      <th>3</th>\n",
       "      <td>2.0</td>\n",
       "      <td>3.0</td>\n",
       "      <td>4</td>\n",
       "      <td>2</td>\n",
       "    </tr>\n",
       "    <tr>\n",
       "      <th>4</th>\n",
       "      <td>4.0</td>\n",
       "      <td>3.0</td>\n",
       "      <td>2</td>\n",
       "      <td>3</td>\n",
       "    </tr>\n",
       "  </tbody>\n",
       "</table>\n",
       "</div>"
      ],
      "text/plain": [
       "   Finances  Entertainment spending  Spending on gadgets  labels\n",
       "0       3.0                     3.0                    1       0\n",
       "1       3.0                     4.0                    5       2\n",
       "2       2.0                     4.0                    4       1\n",
       "3       2.0                     3.0                    4       2\n",
       "4       4.0                     3.0                    2       3"
      ]
     },
     "execution_count": 86,
     "metadata": {},
     "output_type": "execute_result"
    }
   ],
   "source": [
    "DataSpendingBehaviourWithUserCategory.head()"
   ]
  },
  {
   "cell_type": "markdown",
   "metadata": {},
   "source": [
    "We create a new column on spending indicators.\n",
    "SI refers to spending indicator and it is an indicator of the different labels' spending power."
   ]
  },
  {
   "cell_type": "code",
   "execution_count": 87,
   "metadata": {},
   "outputs": [],
   "source": [
    "DataSpendingBehaviourWithUserCategory[\"SI\"] = DataSpendingBehaviourWithUserCategory[\"Entertainment spending\"] + DataSpendingBehaviourWithUserCategory[\"Spending on gadgets\"] - DataSpendingBehaviourWithUserCategory[\"Finances\"]\n",
    "DataSpendingBehaviourWithUserCategoryLean = DataSpendingBehaviourWithUserCategory.drop(columns = [\"Finances\",\"Entertainment spending\",\"Spending on gadgets\"]).copy()"
   ]
  },
  {
   "cell_type": "code",
   "execution_count": 88,
   "metadata": {},
   "outputs": [
    {
     "name": "stderr",
     "output_type": "stream",
     "text": [
      "C:\\Users\\Iris\\Anaconda3\\envs\\sa48\\lib\\site-packages\\statsmodels\\nonparametric\\kde.py:488: RuntimeWarning: invalid value encountered in true_divide\n",
      "  binned = fast_linbin(X, a, b, gridsize) / (delta * nobs)\n",
      "C:\\Users\\Iris\\Anaconda3\\envs\\sa48\\lib\\site-packages\\statsmodels\\nonparametric\\kdetools.py:34: RuntimeWarning: invalid value encountered in double_scalars\n",
      "  FAC1 = 2*(np.pi*bw/RANGE)**2\n"
     ]
    },
    {
     "data": {
      "text/plain": [
       "<seaborn.axisgrid.PairGrid at 0x20c08b5da90>"
      ]
     },
     "execution_count": 88,
     "metadata": {},
     "output_type": "execute_result"
    },
    {
     "data": {
      "image/png": "[encoded data removed]",
      "text/plain": [
       "<Figure size 405.725x360 with 6 Axes>"
      ]
     },
     "metadata": {},
     "output_type": "display_data"
    }
   ],
   "source": [
    "import seaborn as sns\n",
    "sns.set(style=\"ticks\")\n",
    "\n",
    "sns.pairplot(DataSpendingBehaviourWithUserCategoryLean, hue=\"labels\")"
   ]
  },
  {
   "cell_type": "code",
   "execution_count": 89,
   "metadata": {},
   "outputs": [
    {
     "data": {
      "text/plain": [
       "count    874.000000\n",
       "mean       3.062929\n",
       "std        2.547945\n",
       "min       -3.000000\n",
       "25%        1.000000\n",
       "50%        3.000000\n",
       "75%        5.000000\n",
       "max        9.000000\n",
       "Name: SI, dtype: float64"
      ]
     },
     "execution_count": 89,
     "metadata": {},
     "output_type": "execute_result"
    }
   ],
   "source": [
    "#We perform this to determine the bin sizes of the spending indicator\n",
    "DataSpendingBehaviourWithUserCategoryLean['SI'].describe()"
   ]
  },
  {
   "cell_type": "code",
   "execution_count": 90,
   "metadata": {},
   "outputs": [],
   "source": [
    "DataSpendingBehaviourWithUserCategoryLean[\"SI\"] = DataSpendingBehaviourWithUserCategoryLean[\"SI\"] + 3\n",
    "#Scaling the data columns \n",
    "DataSpendingBehaviourWithUserCategoryLean.loc[(DataSpendingBehaviourWithUserCategoryLean['SI'] < 3), 'Spending Group'] = \"Low Spend\"\n",
    "DataSpendingBehaviourWithUserCategoryLean.loc[(DataSpendingBehaviourWithUserCategoryLean['SI'] >= 3) & (DataSpendingBehaviourWithUserCategoryLean['SI'] < 6), 'Spending Group'] = \"Med Spend\"\n",
    "DataSpendingBehaviourWithUserCategoryLean.loc[(DataSpendingBehaviourWithUserCategoryLean['SI'] >= 6) & (DataSpendingBehaviourWithUserCategoryLean['SI'] < 9), 'Spending Group'] = \"High Spend\"\n",
    "DataSpendingBehaviourWithUserCategoryLean.loc[(DataSpendingBehaviourWithUserCategoryLean['SI'] >= 9) & (DataSpendingBehaviourWithUserCategoryLean['SI'] <= 12), 'Spending Group'] = \"Very High Spend\""
   ]
  },
  {
   "cell_type": "code",
   "execution_count": 91,
   "metadata": {},
   "outputs": [
    {
     "data": {
      "text/html": [
       "<div>\n",
       "<style scoped>\n",
       "    .dataframe tbody tr th:only-of-type {\n",
       "        vertical-align: middle;\n",
       "    }\n",
       "\n",
       "    .dataframe tbody tr th {\n",
       "        vertical-align: top;\n",
       "    }\n",
       "\n",
       "    .dataframe thead th {\n",
       "        text-align: right;\n",
       "    }\n",
       "</style>\n",
       "<table border=\"1\" class=\"dataframe\">\n",
       "  <thead>\n",
       "    <tr style=\"text-align: right;\">\n",
       "      <th></th>\n",
       "      <th>labels</th>\n",
       "      <th>SI</th>\n",
       "      <th>Spending Group</th>\n",
       "    </tr>\n",
       "  </thead>\n",
       "  <tbody>\n",
       "    <tr>\n",
       "      <th>0</th>\n",
       "      <td>0</td>\n",
       "      <td>4.0</td>\n",
       "      <td>Med Spend</td>\n",
       "    </tr>\n",
       "    <tr>\n",
       "      <th>1</th>\n",
       "      <td>2</td>\n",
       "      <td>9.0</td>\n",
       "      <td>Very High Spend</td>\n",
       "    </tr>\n",
       "    <tr>\n",
       "      <th>2</th>\n",
       "      <td>1</td>\n",
       "      <td>9.0</td>\n",
       "      <td>Very High Spend</td>\n",
       "    </tr>\n",
       "    <tr>\n",
       "      <th>3</th>\n",
       "      <td>2</td>\n",
       "      <td>8.0</td>\n",
       "      <td>High Spend</td>\n",
       "    </tr>\n",
       "    <tr>\n",
       "      <th>4</th>\n",
       "      <td>3</td>\n",
       "      <td>4.0</td>\n",
       "      <td>Med Spend</td>\n",
       "    </tr>\n",
       "  </tbody>\n",
       "</table>\n",
       "</div>"
      ],
      "text/plain": [
       "   labels   SI   Spending Group\n",
       "0       0  4.0        Med Spend\n",
       "1       2  9.0  Very High Spend\n",
       "2       1  9.0  Very High Spend\n",
       "3       2  8.0       High Spend\n",
       "4       3  4.0        Med Spend"
      ]
     },
     "execution_count": 91,
     "metadata": {},
     "output_type": "execute_result"
    }
   ],
   "source": [
    "DataSpendingBehaviourWithUserCategoryLean.head()"
   ]
  },
  {
   "cell_type": "markdown",
   "metadata": {},
   "source": [
    "Hence from  here we know that customer group label with their corresponding spending power."
   ]
  },
  {
   "cell_type": "code",
   "execution_count": 92,
   "metadata": {},
   "outputs": [],
   "source": [
    "def bar_chart(feature):\n",
    "    Low_Spend = DataSpendingBehaviourWithUserCategoryLean[DataSpendingBehaviourWithUserCategoryLean['Spending Group']=='Low Spend'][feature].value_counts()\n",
    "    Med_Spend = DataSpendingBehaviourWithUserCategoryLean[DataSpendingBehaviourWithUserCategoryLean['Spending Group']=='Med Spend'][feature].value_counts()\n",
    "    High_Spend = DataSpendingBehaviourWithUserCategoryLean[DataSpendingBehaviourWithUserCategoryLean['Spending Group']=='High Spend'][feature].value_counts()\n",
    "    Very_High_Spend = DataSpendingBehaviourWithUserCategoryLean[DataSpendingBehaviourWithUserCategoryLean['Spending Group']=='Very High Spend'][feature].value_counts()\n",
    "    df = pd.DataFrame([Low_Spend,Med_Spend,High_Spend,Very_High_Spend, ((High_Spend + Very_High_Spend)/(Low_Spend+Med_Spend+High_Spend+Very_High_Spend))*100])\n",
    "    df.index = ['Low_Spend','Med_Spend','High_Spend','Very_High_Spend',\"Proportation of high spenders\"]\n",
    "    print(df)\n",
    "    df.plot(kind='bar',stacked=True, figsize=(10,5))"
   ]
  },
  {
   "cell_type": "code",
   "execution_count": 93,
   "metadata": {},
   "outputs": [
    {
     "name": "stdout",
     "output_type": "stream",
     "text": [
      "                                       0          1          2          3\n",
      "Low_Spend                      20.000000  21.000000   7.000000  13.000000\n",
      "Med_Spend                      87.000000  98.000000  51.000000  73.000000\n",
      "High_Spend                     96.000000  99.000000  76.000000  83.000000\n",
      "Very_High_Spend                48.000000  35.000000  29.000000  38.000000\n",
      "Proportation of high spenders  57.370518  52.964427  64.417178  58.454106\n"
     ]
    },
    {
     "data": {
      "image/png": "[encoded data removed]",
      "text/plain": [
       "<Figure size 720x360 with 1 Axes>"
      ]
     },
     "metadata": {},
     "output_type": "display_data"
    }
   ],
   "source": [
    "bar_chart(\"labels\")"
   ]
  },
  {
   "cell_type": "code",
   "execution_count": 94,
   "metadata": {},
   "outputs": [
    {
     "data": {
      "text/html": [
       "<div>\n",
       "<style scoped>\n",
       "    .dataframe tbody tr th:only-of-type {\n",
       "        vertical-align: middle;\n",
       "    }\n",
       "\n",
       "    .dataframe tbody tr th {\n",
       "        vertical-align: top;\n",
       "    }\n",
       "\n",
       "    .dataframe thead th {\n",
       "        text-align: right;\n",
       "    }\n",
       "</style>\n",
       "<table border=\"1\" class=\"dataframe\">\n",
       "  <thead>\n",
       "    <tr style=\"text-align: right;\">\n",
       "      <th></th>\n",
       "      <th>Music</th>\n",
       "      <th>Slow songs or fast songs</th>\n",
       "      <th>Dance</th>\n",
       "      <th>Folk</th>\n",
       "      <th>Country</th>\n",
       "      <th>Classical music</th>\n",
       "      <th>Musical</th>\n",
       "      <th>Pop</th>\n",
       "      <th>Rock</th>\n",
       "      <th>Metal or Hardrock</th>\n",
       "      <th>Punk</th>\n",
       "      <th>Hiphop, Rap</th>\n",
       "      <th>Reggae, Ska</th>\n",
       "      <th>Swing, Jazz</th>\n",
       "      <th>Rock n roll</th>\n",
       "      <th>Alternative</th>\n",
       "      <th>Latino</th>\n",
       "      <th>Techno, Trance</th>\n",
       "      <th>Opera</th>\n",
       "      <th>labels</th>\n",
       "    </tr>\n",
       "  </thead>\n",
       "  <tbody>\n",
       "    <tr>\n",
       "      <th>0</th>\n",
       "      <td>5.0</td>\n",
       "      <td>3.0</td>\n",
       "      <td>2.0</td>\n",
       "      <td>1.0</td>\n",
       "      <td>2.0</td>\n",
       "      <td>2.0</td>\n",
       "      <td>1.0</td>\n",
       "      <td>5.0</td>\n",
       "      <td>5.0</td>\n",
       "      <td>1.0</td>\n",
       "      <td>1.0</td>\n",
       "      <td>1.0</td>\n",
       "      <td>1.0</td>\n",
       "      <td>1.0</td>\n",
       "      <td>3.0</td>\n",
       "      <td>1.0</td>\n",
       "      <td>1.0</td>\n",
       "      <td>1.0</td>\n",
       "      <td>1.0</td>\n",
       "      <td>0</td>\n",
       "    </tr>\n",
       "    <tr>\n",
       "      <th>1</th>\n",
       "      <td>4.0</td>\n",
       "      <td>4.0</td>\n",
       "      <td>2.0</td>\n",
       "      <td>1.0</td>\n",
       "      <td>1.0</td>\n",
       "      <td>1.0</td>\n",
       "      <td>2.0</td>\n",
       "      <td>3.0</td>\n",
       "      <td>5.0</td>\n",
       "      <td>4.0</td>\n",
       "      <td>4.0</td>\n",
       "      <td>1.0</td>\n",
       "      <td>3.0</td>\n",
       "      <td>1.0</td>\n",
       "      <td>4.0</td>\n",
       "      <td>4.0</td>\n",
       "      <td>2.0</td>\n",
       "      <td>1.0</td>\n",
       "      <td>1.0</td>\n",
       "      <td>2</td>\n",
       "    </tr>\n",
       "    <tr>\n",
       "      <th>2</th>\n",
       "      <td>5.0</td>\n",
       "      <td>5.0</td>\n",
       "      <td>2.0</td>\n",
       "      <td>2.0</td>\n",
       "      <td>3.0</td>\n",
       "      <td>4.0</td>\n",
       "      <td>5.0</td>\n",
       "      <td>3.0</td>\n",
       "      <td>5.0</td>\n",
       "      <td>3.0</td>\n",
       "      <td>4.0</td>\n",
       "      <td>1.0</td>\n",
       "      <td>4.0</td>\n",
       "      <td>3.0</td>\n",
       "      <td>5.0</td>\n",
       "      <td>5.0</td>\n",
       "      <td>5.0</td>\n",
       "      <td>1.0</td>\n",
       "      <td>3.0</td>\n",
       "      <td>1</td>\n",
       "    </tr>\n",
       "    <tr>\n",
       "      <th>3</th>\n",
       "      <td>5.0</td>\n",
       "      <td>3.0</td>\n",
       "      <td>2.0</td>\n",
       "      <td>1.0</td>\n",
       "      <td>1.0</td>\n",
       "      <td>1.0</td>\n",
       "      <td>1.0</td>\n",
       "      <td>2.0</td>\n",
       "      <td>2.0</td>\n",
       "      <td>1.0</td>\n",
       "      <td>4.0</td>\n",
       "      <td>2.0</td>\n",
       "      <td>2.0</td>\n",
       "      <td>1.0</td>\n",
       "      <td>2.0</td>\n",
       "      <td>5.0</td>\n",
       "      <td>1.0</td>\n",
       "      <td>2.0</td>\n",
       "      <td>1.0</td>\n",
       "      <td>2</td>\n",
       "    </tr>\n",
       "    <tr>\n",
       "      <th>4</th>\n",
       "      <td>5.0</td>\n",
       "      <td>3.0</td>\n",
       "      <td>4.0</td>\n",
       "      <td>3.0</td>\n",
       "      <td>2.0</td>\n",
       "      <td>4.0</td>\n",
       "      <td>3.0</td>\n",
       "      <td>5.0</td>\n",
       "      <td>3.0</td>\n",
       "      <td>1.0</td>\n",
       "      <td>2.0</td>\n",
       "      <td>5.0</td>\n",
       "      <td>3.0</td>\n",
       "      <td>2.0</td>\n",
       "      <td>1.0</td>\n",
       "      <td>2.0</td>\n",
       "      <td>4.0</td>\n",
       "      <td>2.0</td>\n",
       "      <td>2.0</td>\n",
       "      <td>3</td>\n",
       "    </tr>\n",
       "  </tbody>\n",
       "</table>\n",
       "</div>"
      ],
      "text/plain": [
       "   Music  Slow songs or fast songs  Dance  Folk  Country  Classical music  \\\n",
       "0    5.0                       3.0    2.0   1.0      2.0              2.0   \n",
       "1    4.0                       4.0    2.0   1.0      1.0              1.0   \n",
       "2    5.0                       5.0    2.0   2.0      3.0              4.0   \n",
       "3    5.0                       3.0    2.0   1.0      1.0              1.0   \n",
       "4    5.0                       3.0    4.0   3.0      2.0              4.0   \n",
       "\n",
       "   Musical  Pop  Rock  Metal or Hardrock  Punk  Hiphop, Rap  Reggae, Ska  \\\n",
       "0      1.0  5.0   5.0                1.0   1.0          1.0          1.0   \n",
       "1      2.0  3.0   5.0                4.0   4.0          1.0          3.0   \n",
       "2      5.0  3.0   5.0                3.0   4.0          1.0          4.0   \n",
       "3      1.0  2.0   2.0                1.0   4.0          2.0          2.0   \n",
       "4      3.0  5.0   3.0                1.0   2.0          5.0          3.0   \n",
       "\n",
       "   Swing, Jazz  Rock n roll  Alternative  Latino  Techno, Trance  Opera  \\\n",
       "0          1.0          3.0          1.0     1.0             1.0    1.0   \n",
       "1          1.0          4.0          4.0     2.0             1.0    1.0   \n",
       "2          3.0          5.0          5.0     5.0             1.0    3.0   \n",
       "3          1.0          2.0          5.0     1.0             2.0    1.0   \n",
       "4          2.0          1.0          2.0     4.0             2.0    2.0   \n",
       "\n",
       "   labels  \n",
       "0       0  \n",
       "1       2  \n",
       "2       1  \n",
       "3       2  \n",
       "4       3  "
      ]
     },
     "execution_count": 94,
     "metadata": {},
     "output_type": "execute_result"
    }
   ],
   "source": [
    "musicPreferences= MusicSimilarBehaviour.iloc[:,[0,1,2,3,4,5,6,7,8,9,10,11,12,13,14,15,16,17,18,19]].copy()\n",
    "musicPreferences.head()"
   ]
  },
  {
   "cell_type": "code",
   "execution_count": 95,
   "metadata": {},
   "outputs": [],
   "source": [
    "def Label_Mean(label):\n",
    "    is2 = musicPreferences['labels'] == label\n",
    "    musicPreferencesLabel = musicPreferences[is2]\n",
    "    musicPreferencesLabelMusicGenre = musicPreferencesLabel.drop(columns=['Music'])\n",
    "\n",
    "    columns = ['genre','average']\n",
    "    index = range(0,len(musicPreferencesLabelMusicGenre.columns))\n",
    "\n",
    "    label2 = pd.DataFrame(index=index, columns=columns)\n",
    "    label2['genre'] = list(musicPreferencesLabelMusicGenre.columns.values)\n",
    "    label2['average'] = list(musicPreferencesLabelMusicGenre.mean(axis=0).values)\n",
    "\n",
    "    isMax = label2['average'] == musicPreferencesLabelMusicGenre.mean(axis=0).max()\n",
    "    label2Max = label2[isMax]\n",
    "    print(label2Max.head())"
   ]
  },
  {
   "cell_type": "code",
   "execution_count": 96,
   "metadata": {},
   "outputs": [
    {
     "name": "stdout",
     "output_type": "stream",
     "text": [
      "  genre   average\n",
      "6   Pop  3.646617\n",
      "  genre   average\n",
      "7  Rock  4.225092\n",
      "  genre   average\n",
      "7  Rock  4.497143\n",
      "  genre   average\n",
      "6   Pop  4.018265\n"
     ]
    }
   ],
   "source": [
    "Label_Mean(0)\n",
    "Label_Mean(1)\n",
    "Label_Mean(2)\n",
    "Label_Mean(3)"
   ]
  },
  {
   "cell_type": "markdown",
   "metadata": {},
   "source": [
    "From the analysis, label 2 (with the highest spending power among the four clusters) have preference for rock music the most.\n",
    "Should focus merchandise on pop and rock music."
   ]
  },
  {
   "cell_type": "markdown",
   "metadata": {},
   "source": [
    "## Analysis on demographics of young people into which labels"
   ]
  },
  {
   "cell_type": "markdown",
   "metadata": {},
   "source": [
    "Next we will analyse the spendings based on demographics"
   ]
  },
  {
   "cell_type": "code",
   "execution_count": 49,
   "metadata": {},
   "outputs": [
    {
     "data": {
      "text/html": [
       "<div>\n",
       "<style scoped>\n",
       "    .dataframe tbody tr th:only-of-type {\n",
       "        vertical-align: middle;\n",
       "    }\n",
       "\n",
       "    .dataframe tbody tr th {\n",
       "        vertical-align: top;\n",
       "    }\n",
       "\n",
       "    .dataframe thead th {\n",
       "        text-align: right;\n",
       "    }\n",
       "</style>\n",
       "<table border=\"1\" class=\"dataframe\">\n",
       "  <thead>\n",
       "    <tr style=\"text-align: right;\">\n",
       "      <th></th>\n",
       "      <th>Age</th>\n",
       "      <th>Height</th>\n",
       "      <th>Weight</th>\n",
       "      <th>Number of siblings</th>\n",
       "      <th>Gender</th>\n",
       "      <th>Left - right handed</th>\n",
       "      <th>Education</th>\n",
       "      <th>Only child</th>\n",
       "      <th>Village - town</th>\n",
       "      <th>House - block of flats</th>\n",
       "      <th>labels</th>\n",
       "    </tr>\n",
       "  </thead>\n",
       "  <tbody>\n",
       "    <tr>\n",
       "      <th>0</th>\n",
       "      <td>20.0</td>\n",
       "      <td>163.0</td>\n",
       "      <td>48.0</td>\n",
       "      <td>1.0</td>\n",
       "      <td>female</td>\n",
       "      <td>right handed</td>\n",
       "      <td>college/bachelor degree</td>\n",
       "      <td>no</td>\n",
       "      <td>village</td>\n",
       "      <td>block of flats</td>\n",
       "      <td>0</td>\n",
       "    </tr>\n",
       "    <tr>\n",
       "      <th>1</th>\n",
       "      <td>19.0</td>\n",
       "      <td>163.0</td>\n",
       "      <td>58.0</td>\n",
       "      <td>2.0</td>\n",
       "      <td>female</td>\n",
       "      <td>right handed</td>\n",
       "      <td>college/bachelor degree</td>\n",
       "      <td>no</td>\n",
       "      <td>city</td>\n",
       "      <td>block of flats</td>\n",
       "      <td>2</td>\n",
       "    </tr>\n",
       "    <tr>\n",
       "      <th>2</th>\n",
       "      <td>20.0</td>\n",
       "      <td>176.0</td>\n",
       "      <td>67.0</td>\n",
       "      <td>2.0</td>\n",
       "      <td>female</td>\n",
       "      <td>right handed</td>\n",
       "      <td>secondary school</td>\n",
       "      <td>no</td>\n",
       "      <td>city</td>\n",
       "      <td>block of flats</td>\n",
       "      <td>1</td>\n",
       "    </tr>\n",
       "    <tr>\n",
       "      <th>3</th>\n",
       "      <td>22.0</td>\n",
       "      <td>172.0</td>\n",
       "      <td>59.0</td>\n",
       "      <td>1.0</td>\n",
       "      <td>female</td>\n",
       "      <td>right handed</td>\n",
       "      <td>college/bachelor degree</td>\n",
       "      <td>yes</td>\n",
       "      <td>city</td>\n",
       "      <td>house/bungalow</td>\n",
       "      <td>2</td>\n",
       "    </tr>\n",
       "    <tr>\n",
       "      <th>4</th>\n",
       "      <td>20.0</td>\n",
       "      <td>170.0</td>\n",
       "      <td>59.0</td>\n",
       "      <td>1.0</td>\n",
       "      <td>female</td>\n",
       "      <td>right handed</td>\n",
       "      <td>secondary school</td>\n",
       "      <td>no</td>\n",
       "      <td>village</td>\n",
       "      <td>house/bungalow</td>\n",
       "      <td>3</td>\n",
       "    </tr>\n",
       "    <tr>\n",
       "      <th>5</th>\n",
       "      <td>20.0</td>\n",
       "      <td>186.0</td>\n",
       "      <td>77.0</td>\n",
       "      <td>1.0</td>\n",
       "      <td>male</td>\n",
       "      <td>right handed</td>\n",
       "      <td>secondary school</td>\n",
       "      <td>no</td>\n",
       "      <td>city</td>\n",
       "      <td>block of flats</td>\n",
       "      <td>2</td>\n",
       "    </tr>\n",
       "    <tr>\n",
       "      <th>6</th>\n",
       "      <td>20.0</td>\n",
       "      <td>177.0</td>\n",
       "      <td>50.0</td>\n",
       "      <td>1.0</td>\n",
       "      <td>female</td>\n",
       "      <td>right handed</td>\n",
       "      <td>secondary school</td>\n",
       "      <td>no</td>\n",
       "      <td>village</td>\n",
       "      <td>house/bungalow</td>\n",
       "      <td>0</td>\n",
       "    </tr>\n",
       "    <tr>\n",
       "      <th>7</th>\n",
       "      <td>19.0</td>\n",
       "      <td>184.0</td>\n",
       "      <td>90.0</td>\n",
       "      <td>1.0</td>\n",
       "      <td>male</td>\n",
       "      <td>right handed</td>\n",
       "      <td>college/bachelor degree</td>\n",
       "      <td>no</td>\n",
       "      <td>city</td>\n",
       "      <td>house/bungalow</td>\n",
       "      <td>0</td>\n",
       "    </tr>\n",
       "    <tr>\n",
       "      <th>9</th>\n",
       "      <td>19.0</td>\n",
       "      <td>174.0</td>\n",
       "      <td>60.0</td>\n",
       "      <td>3.0</td>\n",
       "      <td>female</td>\n",
       "      <td>right handed</td>\n",
       "      <td>secondary school</td>\n",
       "      <td>no</td>\n",
       "      <td>city</td>\n",
       "      <td>block of flats</td>\n",
       "      <td>1</td>\n",
       "    </tr>\n",
       "    <tr>\n",
       "      <th>10</th>\n",
       "      <td>19.0</td>\n",
       "      <td>175.0</td>\n",
       "      <td>60.0</td>\n",
       "      <td>2.0</td>\n",
       "      <td>female</td>\n",
       "      <td>left handed</td>\n",
       "      <td>secondary school</td>\n",
       "      <td>no</td>\n",
       "      <td>city</td>\n",
       "      <td>block of flats</td>\n",
       "      <td>0</td>\n",
       "    </tr>\n",
       "  </tbody>\n",
       "</table>\n",
       "</div>"
      ],
      "text/plain": [
       "     Age  Height  Weight  Number of siblings  Gender Left - right handed  \\\n",
       "0   20.0   163.0    48.0                 1.0  female        right handed   \n",
       "1   19.0   163.0    58.0                 2.0  female        right handed   \n",
       "2   20.0   176.0    67.0                 2.0  female        right handed   \n",
       "3   22.0   172.0    59.0                 1.0  female        right handed   \n",
       "4   20.0   170.0    59.0                 1.0  female        right handed   \n",
       "5   20.0   186.0    77.0                 1.0    male        right handed   \n",
       "6   20.0   177.0    50.0                 1.0  female        right handed   \n",
       "7   19.0   184.0    90.0                 1.0    male        right handed   \n",
       "9   19.0   174.0    60.0                 3.0  female        right handed   \n",
       "10  19.0   175.0    60.0                 2.0  female         left handed   \n",
       "\n",
       "                  Education Only child Village - town House - block of flats  \\\n",
       "0   college/bachelor degree         no        village         block of flats   \n",
       "1   college/bachelor degree         no           city         block of flats   \n",
       "2          secondary school         no           city         block of flats   \n",
       "3   college/bachelor degree        yes           city         house/bungalow   \n",
       "4          secondary school         no        village         house/bungalow   \n",
       "5          secondary school         no           city         block of flats   \n",
       "6          secondary school         no        village         house/bungalow   \n",
       "7   college/bachelor degree         no           city         house/bungalow   \n",
       "9          secondary school         no           city         block of flats   \n",
       "10         secondary school         no           city         block of flats   \n",
       "\n",
       "    labels  \n",
       "0        0  \n",
       "1        2  \n",
       "2        1  \n",
       "3        2  \n",
       "4        3  \n",
       "5        2  \n",
       "6        0  \n",
       "7        0  \n",
       "9        1  \n",
       "10       0  "
      ]
     },
     "execution_count": 49,
     "metadata": {},
     "output_type": "execute_result"
    }
   ],
   "source": [
    "SpendingBasedOnDemographics = DataRelevantColumn.iloc[:,[26,27,28,29,30,31,32,33,34,35]].copy()\n",
    "SpendingBasedOnDemographics[\"labels\"] = musicPreferences[\"labels\"]\n",
    "SpendingBasedOnDemographics.head(10)"
   ]
  },
  {
   "cell_type": "code",
   "execution_count": 50,
   "metadata": {},
   "outputs": [],
   "source": [
    "def EncodeCol(col):\n",
    "    #encode all variables\n",
    "    from sklearn import preprocessing \n",
    "\n",
    "    # label_encoder object knows how to understand word labels. \n",
    "    label_encoder = preprocessing.LabelEncoder() \n",
    "\n",
    "    # Encode labels in column 'species'. \n",
    "    y = label_encoder.fit_transform(SpendingBasedOnDemographics[col]) \n",
    "    newLabel = col + '_encoded'\n",
    "    \n",
    "    SpendingBasedOnDemographics[newLabel] = y"
   ]
  },
  {
   "cell_type": "code",
   "execution_count": 51,
   "metadata": {},
   "outputs": [],
   "source": [
    "listColumns = list(SpendingBasedOnDemographics.columns.values)\n",
    "\n",
    "for i in range(4,10):\n",
    "    EncodeCol(listColumns[i])"
   ]
  },
  {
   "cell_type": "code",
   "execution_count": 52,
   "metadata": {},
   "outputs": [
    {
     "name": "stdout",
     "output_type": "stream",
     "text": [
      "   Gender  Gender_encoded\n",
      "0  female               0\n",
      "5    male               1\n",
      "   Left - right handed  Left - right handed_encoded\n",
      "0         right handed                            1\n",
      "10         left handed                            0\n",
      "                            Education  Education_encoded\n",
      "0             college/bachelor degree                  0\n",
      "2                    secondary school                  5\n",
      "11                     primary school                  4\n",
      "33                     masters degree                  3\n",
      "156                  doctorate degree                  2\n",
      "158  currently a primary school pupil                  1\n",
      "  Only child  Only child_encoded\n",
      "0         no                   0\n",
      "3        yes                   1\n",
      "  Village - town  Village - town_encoded\n",
      "0        village                       1\n",
      "1           city                       0\n",
      "  House - block of flats  House - block of flats_encoded\n",
      "0         block of flats                               0\n",
      "3         house/bungalow                               1\n"
     ]
    }
   ],
   "source": [
    "#Data Dictionary\n",
    "print(SpendingBasedOnDemographics.iloc[:,[4,11]].drop_duplicates())\n",
    "print(SpendingBasedOnDemographics.iloc[:,[5,12]].drop_duplicates())\n",
    "print(SpendingBasedOnDemographics.iloc[:,[6,13]].drop_duplicates())\n",
    "print(SpendingBasedOnDemographics.iloc[:,[7,14]].drop_duplicates())\n",
    "print(SpendingBasedOnDemographics.iloc[:,[8,15]].drop_duplicates())\n",
    "print(SpendingBasedOnDemographics.iloc[:,[9,16]].drop_duplicates())"
   ]
  },
  {
   "cell_type": "code",
   "execution_count": 53,
   "metadata": {},
   "outputs": [
    {
     "data": {
      "text/html": [
       "<div>\n",
       "<style scoped>\n",
       "    .dataframe tbody tr th:only-of-type {\n",
       "        vertical-align: middle;\n",
       "    }\n",
       "\n",
       "    .dataframe tbody tr th {\n",
       "        vertical-align: top;\n",
       "    }\n",
       "\n",
       "    .dataframe thead th {\n",
       "        text-align: right;\n",
       "    }\n",
       "</style>\n",
       "<table border=\"1\" class=\"dataframe\">\n",
       "  <thead>\n",
       "    <tr style=\"text-align: right;\">\n",
       "      <th></th>\n",
       "      <th>Height</th>\n",
       "      <th>Weight</th>\n",
       "      <th>Number of siblings</th>\n",
       "      <th>labels</th>\n",
       "      <th>Gender_encoded</th>\n",
       "      <th>Left - right handed_encoded</th>\n",
       "      <th>Education_encoded</th>\n",
       "      <th>Only child_encoded</th>\n",
       "      <th>Village - town_encoded</th>\n",
       "      <th>House - block of flats_encoded</th>\n",
       "    </tr>\n",
       "  </thead>\n",
       "  <tbody>\n",
       "    <tr>\n",
       "      <th>0</th>\n",
       "      <td>163.0</td>\n",
       "      <td>48.0</td>\n",
       "      <td>1.0</td>\n",
       "      <td>0</td>\n",
       "      <td>0</td>\n",
       "      <td>1</td>\n",
       "      <td>0</td>\n",
       "      <td>0</td>\n",
       "      <td>1</td>\n",
       "      <td>0</td>\n",
       "    </tr>\n",
       "    <tr>\n",
       "      <th>1</th>\n",
       "      <td>163.0</td>\n",
       "      <td>58.0</td>\n",
       "      <td>2.0</td>\n",
       "      <td>2</td>\n",
       "      <td>0</td>\n",
       "      <td>1</td>\n",
       "      <td>0</td>\n",
       "      <td>0</td>\n",
       "      <td>0</td>\n",
       "      <td>0</td>\n",
       "    </tr>\n",
       "    <tr>\n",
       "      <th>2</th>\n",
       "      <td>176.0</td>\n",
       "      <td>67.0</td>\n",
       "      <td>2.0</td>\n",
       "      <td>1</td>\n",
       "      <td>0</td>\n",
       "      <td>1</td>\n",
       "      <td>5</td>\n",
       "      <td>0</td>\n",
       "      <td>0</td>\n",
       "      <td>0</td>\n",
       "    </tr>\n",
       "    <tr>\n",
       "      <th>3</th>\n",
       "      <td>172.0</td>\n",
       "      <td>59.0</td>\n",
       "      <td>1.0</td>\n",
       "      <td>2</td>\n",
       "      <td>0</td>\n",
       "      <td>1</td>\n",
       "      <td>0</td>\n",
       "      <td>1</td>\n",
       "      <td>0</td>\n",
       "      <td>1</td>\n",
       "    </tr>\n",
       "    <tr>\n",
       "      <th>4</th>\n",
       "      <td>170.0</td>\n",
       "      <td>59.0</td>\n",
       "      <td>1.0</td>\n",
       "      <td>3</td>\n",
       "      <td>0</td>\n",
       "      <td>1</td>\n",
       "      <td>5</td>\n",
       "      <td>0</td>\n",
       "      <td>1</td>\n",
       "      <td>1</td>\n",
       "    </tr>\n",
       "  </tbody>\n",
       "</table>\n",
       "</div>"
      ],
      "text/plain": [
       "   Height  Weight  Number of siblings  labels  Gender_encoded  \\\n",
       "0   163.0    48.0                 1.0       0               0   \n",
       "1   163.0    58.0                 2.0       2               0   \n",
       "2   176.0    67.0                 2.0       1               0   \n",
       "3   172.0    59.0                 1.0       2               0   \n",
       "4   170.0    59.0                 1.0       3               0   \n",
       "\n",
       "   Left - right handed_encoded  Education_encoded  Only child_encoded  \\\n",
       "0                            1                  0                   0   \n",
       "1                            1                  0                   0   \n",
       "2                            1                  5                   0   \n",
       "3                            1                  0                   1   \n",
       "4                            1                  5                   0   \n",
       "\n",
       "   Village - town_encoded  House - block of flats_encoded  \n",
       "0                       1                               0  \n",
       "1                       0                               0  \n",
       "2                       0                               0  \n",
       "3                       0                               1  \n",
       "4                       1                               1  "
      ]
     },
     "execution_count": 53,
     "metadata": {},
     "output_type": "execute_result"
    }
   ],
   "source": [
    "DemographicsToLabels = SpendingBasedOnDemographics.iloc[:,[1,2,3,10,11,12,13,14,15,16]].copy()\n",
    "DemographicsToLabels.head()"
   ]
  },
  {
   "cell_type": "code",
   "execution_count": 97,
   "metadata": {},
   "outputs": [],
   "source": [
    "target = DemographicsToLabels['labels'] # this is the dependent variable\n",
    "x_train, x_test, y_train, y_test = train_test_split(DemographicsToLabels, target, random_state = 42)\n",
    "x_train1 = x_train.drop(['labels'], axis=1)\n",
    "x_test1 = x_test.drop(['labels'], axis=1)\n",
    "k_fold = KFold(n_splits=10, shuffle=True, random_state=0)"
   ]
  },
  {
   "cell_type": "code",
   "execution_count": 98,
   "metadata": {},
   "outputs": [
    {
     "name": "stdout",
     "output_type": "stream",
     "text": [
      "1\n",
      "0.2557077625570776\n",
      "5\n",
      "0.2237442922374429\n",
      "9\n",
      "0.2511415525114155\n",
      "13\n",
      "0.228310502283105\n",
      "17\n",
      "0.2511415525114155\n"
     ]
    }
   ],
   "source": [
    "# for each n, we want to check the accuracy of random forest with n trees\n",
    "for n in n_trees:\n",
    "    rdf = RandomForestClassifier(n_estimators = n, random_state = 42)\n",
    "    rdf.fit(x_train1, y_train)\n",
    "    # we will print both the number of trees, and the accuracy score\n",
    "    print(n)\n",
    "    print(accuracy_score(y_test, rdf.predict(x_test1)))"
   ]
  },
  {
   "cell_type": "code",
   "execution_count": 99,
   "metadata": {},
   "outputs": [
    {
     "data": {
      "text/plain": [
       "RandomForestClassifier(bootstrap=True, class_weight=None, criterion='gini',\n",
       "                       max_depth=None, max_features='auto', max_leaf_nodes=None,\n",
       "                       min_impurity_decrease=0.0, min_impurity_split=None,\n",
       "                       min_samples_leaf=1, min_samples_split=2,\n",
       "                       min_weight_fraction_leaf=0.0, n_estimators=9,\n",
       "                       n_jobs=None, oob_score=False, random_state=42, verbose=0,\n",
       "                       warm_start=False)"
      ]
     },
     "execution_count": 99,
     "metadata": {},
     "output_type": "execute_result"
    }
   ],
   "source": [
    "rdForest = RandomForestClassifier(n_estimators = 9, random_state = 42)\n",
    "rdForest.fit(x_train1, y_train)"
   ]
  },
  {
   "cell_type": "code",
   "execution_count": 101,
   "metadata": {},
   "outputs": [
    {
     "data": {
      "text/plain": [
       "array([1], dtype=int64)"
      ]
     },
     "execution_count": 101,
     "metadata": {},
     "output_type": "execute_result"
    }
   ],
   "source": [
    "rdForest.predict([[159,50,2,0,1,5,0,1,1]])"
   ]
  },
  {
   "cell_type": "markdown",
   "metadata": {},
   "source": [
    "Therefore, a girl 159cm, weight 50kg, who has two siblings, is right handed and has a college degree belongs to label 1 and hence will likely to have a music preference of Rock."
   ]
  },
  {
   "cell_type": "code",
   "execution_count": null,
   "metadata": {},
   "outputs": [],
   "source": []
  }
 ],
 "metadata": {
  "kernelspec": {
   "display_name": "Python 3",
   "language": "python",
   "name": "python3"
  },
  "language_info": {
   "codemirror_mode": {
    "name": "ipython",
    "version": 3
   },
   "file_extension": ".py",
   "mimetype": "text/x-python",
   "name": "python",
   "nbconvert_exporter": "python",
   "pygments_lexer": "ipython3",
   "version": "3.7.3"
  }
 },
 "nbformat": 4,
 "nbformat_minor": 2
}
