{
 "cells": [
  {
   "cell_type": "code",
   "execution_count": 1,
   "metadata": {},
   "outputs": [],
   "source": [
    "import pandas as pd"
   ]
  },
  {
   "cell_type": "markdown",
   "metadata": {},
   "source": [
    "Referenced from https://github.com/cgcai/SVY21"
   ]
  },
  {
   "cell_type": "code",
   "execution_count": 2,
   "metadata": {},
   "outputs": [],
   "source": [
    "import math\n",
    "\n",
    "class SVY21:\n",
    "    # Ref: http://www.linz.govt.nz/geodetic/conversion-coordinates/projection-conversions/transverse-mercator-preliminary-computations/index.aspx\n",
    "    \n",
    "    # WGS84 Datum\n",
    "    a = 6378137\n",
    "    f = 1 / 298.257223563\n",
    "\n",
    "    # SVY21 Projection\n",
    "    # Fundamental point: Base 7 at Pierce Resevoir.\n",
    "    # Latitude: 1 22 02.9154 N, longitude: 103 49 31.9752 E (of Greenwich).\n",
    "\n",
    "    # Known Issue: Setting (oLat, oLon) to the exact coordinates specified above\n",
    "    # results in computation being slightly off. The values below give the most \n",
    "    # accurate represenation of test data.\n",
    "    oLat = 1.366666     # origin's lat in degrees\n",
    "    oLon = 103.833333   # origin's lon in degrees\n",
    "    oN = 38744.572      # false Northing\n",
    "    oE = 28001.642      # false Easting\n",
    "    k = 1               # scale factor\n",
    "\n",
    "    #\n",
    "    def __init__(self):\n",
    "        self.b = self.a * (1 - self.f)\n",
    "        self.e2 = (2 * self.f) - (self.f * self.f)\n",
    "        self.e4 = self.e2 * self.e2\n",
    "        self.e6 = self.e4 * self.e2\n",
    "        self.A0 = 1 - (self.e2 / 4) - (3 * self.e4 / 64) - (5 * self.e6 / 256);\n",
    "        self.A2 = (3. / 8.) * (self.e2 + (self.e4 / 4) + (15 * self.e6 / 128));\n",
    "        self.A4 = (15. / 256.) * (self.e4 + (3 * self.e6 / 4));\n",
    "        self.A6 = 35 * self.e6 / 3072;\n",
    "\n",
    "    def computeSVY21(self, lat, lon):\n",
    "        \"\"\"\n",
    "        Returns a pair (N, E) representing Northings and Eastings in SVY21.\n",
    "        \"\"\"\n",
    "\n",
    "        latR = lat * math.pi / 180\n",
    "        sinLat = math.sin(latR)\n",
    "        sin2Lat = sinLat * sinLat\n",
    "        cosLat = math.cos(latR)\n",
    "        cos2Lat = cosLat * cosLat\n",
    "        cos3Lat = cos2Lat * cosLat\n",
    "        cos4Lat = cos3Lat * cosLat\n",
    "        cos5Lat = cos4Lat * cosLat\n",
    "        cos6Lat = cos5Lat * cosLat\n",
    "        cos7Lat = cos6Lat * cosLat\n",
    "\n",
    "        rho = self.calcRho(sin2Lat)\n",
    "        v = self.calcV(sin2Lat)\n",
    "        psi = v / rho\n",
    "        t = math.tan(latR)\n",
    "        w = (lon - self.oLon) * math.pi / 180\n",
    "\n",
    "        M = self.calcM(lat)\n",
    "        Mo = self.calcM(self.oLat)\n",
    "\n",
    "        w2 = w * w\n",
    "        w4 = w2 * w2\n",
    "        w6 = w4 * w2\n",
    "        w8 = w6 * w2\n",
    "\n",
    "        psi2 = psi * psi\n",
    "        psi3 = psi2 * psi\n",
    "        psi4 = psi3 * psi\n",
    "\n",
    "        t2 = t * t\n",
    "        t4 = t2 * t2\n",
    "        t6 = t4 * t2\n",
    "\n",
    "        # Compute Northing\n",
    "        nTerm1 = w2 / 2 * v * sinLat * cosLat\n",
    "        nTerm2 = w4 / 24 * v * sinLat * cos3Lat * (4 * psi2 + psi - t2)\n",
    "        nTerm3 = w6 / 720 * v * sinLat * cos5Lat * ((8 * psi4) * (11 - 24 * t2) - (28 * psi3) * (1 - 6 * t2) + psi2 * (1 - 32 * t2) - psi * 2 * t2 + t4)\n",
    "        nTerm4 = w8 / 40320 * v * sinLat * cos7Lat * (1385 - 3111 * t2 + 543 * t4 - t6)\n",
    "        N = self.oN + self.k * (M - Mo + nTerm1 + nTerm2 + nTerm3 + nTerm4)\n",
    "\n",
    "        # Compute Easting\n",
    "        eTerm1 = w2 / 6 * cos2Lat * (psi - t2)\n",
    "        eTerm2 = w4 / 120 * cos4Lat * ((4 * psi3) * (1 - 6 * t2) + psi2 * (1 + 8 * t2) - psi * 2 * t2 + t4)\n",
    "        eTerm3 = w6 / 5040 * cos6Lat * (61 - 479 * t2 + 179 * t4 - t6)\n",
    "        E = self.oE + self.k * v * w * cosLat * (1 + eTerm1 + eTerm2 + eTerm3)\n",
    "\n",
    "        return (N, E)\n",
    "\n",
    "    def calcM(self, lat):\n",
    "        latR = lat * math.pi / 180\n",
    "        return self.a * ((self.A0 * latR) - (self.A2 * math.sin(2 * latR)) + (self.A4 * math.sin(4 * latR)) - (self.A6 * math.sin(6 * latR)))\n",
    "\n",
    "    def calcRho(self, sin2Lat):\n",
    "        num = self.a * (1 - self.e2)\n",
    "        denom = math.pow(1 - self.e2 * sin2Lat, 3. / 2.)\n",
    "        return num / denom\n",
    "\n",
    "    def calcV(self, sin2Lat):\n",
    "        poly = 1 - self.e2 * sin2Lat\n",
    "        return self.a / math.sqrt(poly)\n",
    "\n",
    "    def computeLatLon(self, N, E):\n",
    "        \"\"\"\n",
    "        Returns a pair (lat, lon) representing Latitude and Longitude.\n",
    "        \"\"\"\n",
    "\n",
    "        Nprime = N - self.oN\n",
    "        Mo = self.calcM(self.oLat)\n",
    "        Mprime = Mo + (Nprime / self.k)\n",
    "        n = (self.a - self.b) / (self.a + self.b)\n",
    "        n2 = n * n\n",
    "        n3 = n2 * n\n",
    "        n4 = n2 * n2\n",
    "        G = self.a * (1 - n) * (1 - n2) * (1 + (9 * n2 / 4) + (225 * n4 / 64)) * (math.pi / 180)\n",
    "        sigma = (Mprime * math.pi) / (180. * G)\n",
    "        \n",
    "        latPrimeT1 = ((3 * n / 2) - (27 * n3 / 32)) * math.sin(2 * sigma)\n",
    "        latPrimeT2 = ((21 * n2 / 16) - (55 * n4 / 32)) * math.sin(4 * sigma)\n",
    "        latPrimeT3 = (151 * n3 / 96) * math.sin(6 * sigma)\n",
    "        latPrimeT4 = (1097 * n4 / 512) * math.sin(8 * sigma)\n",
    "        latPrime = sigma + latPrimeT1 + latPrimeT2 + latPrimeT3 + latPrimeT4\n",
    "\n",
    "        sinLatPrime = math.sin(latPrime)\n",
    "        sin2LatPrime = sinLatPrime * sinLatPrime\n",
    "\n",
    "        rhoPrime = self.calcRho(sin2LatPrime)\n",
    "        vPrime = self.calcV(sin2LatPrime)\n",
    "        psiPrime = vPrime / rhoPrime\n",
    "        psiPrime2 = psiPrime * psiPrime\n",
    "        psiPrime3 = psiPrime2 * psiPrime\n",
    "        psiPrime4 = psiPrime3 * psiPrime\n",
    "        tPrime = math.tan(latPrime)\n",
    "        tPrime2 = tPrime * tPrime\n",
    "        tPrime4 = tPrime2 * tPrime2\n",
    "        tPrime6 = tPrime4 * tPrime2\n",
    "        Eprime = E - self.oE\n",
    "        x = Eprime / (self.k * vPrime)\n",
    "        x2 = x * x\n",
    "        x3 = x2 * x\n",
    "        x5 = x3 * x2\n",
    "        x7 = x5 * x2\n",
    "\n",
    "        # Compute Latitude\n",
    "        latFactor = tPrime / (self.k * rhoPrime)\n",
    "        latTerm1 = latFactor * ((Eprime * x) / 2)\n",
    "        latTerm2 = latFactor * ((Eprime * x3) / 24) * ((-4 * psiPrime2) + (9 * psiPrime) * (1 - tPrime2) + (12 * tPrime2))\n",
    "        latTerm3 = latFactor * ((Eprime * x5) / 720) * ((8 * psiPrime4) * (11 - 24 * tPrime2) - (12 * psiPrime3) * (21 - 71 * tPrime2) + (15 * psiPrime2) * (15 - 98 * tPrime2 + 15 * tPrime4) + (180 * psiPrime) * (5 * tPrime2 - 3 * tPrime4) + 360 * tPrime4)\n",
    "        latTerm4 = latFactor * ((Eprime * x7) / 40320) * (1385 - 3633 * tPrime2 + 4095 * tPrime4 + 1575 * tPrime6)\n",
    "        lat = latPrime - latTerm1 + latTerm2 - latTerm3 + latTerm4\n",
    "\n",
    "        # Compute Longitude\n",
    "        secLatPrime = 1. / math.cos(lat)\n",
    "        lonTerm1 = x * secLatPrime\n",
    "        lonTerm2 = ((x3 * secLatPrime) / 6) * (psiPrime + 2 * tPrime2)\n",
    "        lonTerm3 = ((x5 * secLatPrime) / 120) * ((-4 * psiPrime3) * (1 - 6 * tPrime2) + psiPrime2 * (9 - 68 * tPrime2) + 72 * psiPrime * tPrime2 + 24 * tPrime4)\n",
    "        lonTerm4 = ((x7 * secLatPrime) / 5040) * (61 + 662 * tPrime2 + 1320 * tPrime4 + 720 * tPrime6)\n",
    "        lon = (self.oLon * math.pi / 180) + lonTerm1 - lonTerm2 + lonTerm3 - lonTerm4\n",
    "\n",
    "        return (lat / (math.pi / 180), lon / (math.pi / 180))"
   ]
  },
  {
   "cell_type": "code",
   "execution_count": 3,
   "metadata": {},
   "outputs": [],
   "source": [
    "# Initialization\n",
    "cv = SVY21()"
   ]
  },
  {
   "cell_type": "code",
   "execution_count": 4,
   "metadata": {},
   "outputs": [],
   "source": [
    "data = pd.read_csv(\"hdb-carpark-information.csv\") "
   ]
  },
  {
   "cell_type": "code",
   "execution_count": 5,
   "metadata": {},
   "outputs": [],
   "source": [
    "xycoordlist = []"
   ]
  },
  {
   "cell_type": "code",
   "execution_count": 6,
   "metadata": {},
   "outputs": [],
   "source": [
    "for i in range(len(data)):\n",
    "    xycoordlist.append((data.iloc[i]['y_coord'],data.iloc[i]['x_coord']))"
   ]
  },
  {
   "cell_type": "code",
   "execution_count": 7,
   "metadata": {},
   "outputs": [],
   "source": [
    "geocoordlist = []"
   ]
  },
  {
   "cell_type": "code",
   "execution_count": 8,
   "metadata": {},
   "outputs": [],
   "source": [
    "for i in range(len(xycoordlist)):\n",
    "    geocoordlist.append(cv.computeLatLon(xycoordlist[i][0],xycoordlist[i][1]))"
   ]
  },
  {
   "cell_type": "code",
   "execution_count": 9,
   "metadata": {},
   "outputs": [],
   "source": [
    "data['geocoord'] = geocoordlist"
   ]
  },
  {
   "cell_type": "code",
   "execution_count": 10,
   "metadata": {},
   "outputs": [],
   "source": [
    "data['lat'] = data['geocoord'].str[0]"
   ]
  },
  {
   "cell_type": "code",
   "execution_count": 11,
   "metadata": {},
   "outputs": [],
   "source": [
    "data['lon'] = data['geocoord'].str[1]"
   ]
  },
  {
   "cell_type": "code",
   "execution_count": 13,
   "metadata": {},
   "outputs": [],
   "source": [
    "export_excel = data.to_excel ('hdb-carpark-information.xlsx', index = None, header=True)"
   ]
  },
  {
   "cell_type": "code",
   "execution_count": 14,
   "metadata": {},
   "outputs": [
    {
     "data": {
      "text/plain": [
       "(1.3010626054202958, 103.85411771659146)"
      ]
     },
     "execution_count": 14,
     "metadata": {},
     "output_type": "execute_result"
    }
   ],
   "source": [
    "# Computing Lat/Lon from SVY21\n",
    ">>> (lat, lon) = cv.computeLatLon(31490.4942, 30314.7936)\n",
    ">>> (lat, lon)"
   ]
  },
  {
   "cell_type": "code",
   "execution_count": null,
   "metadata": {},
   "outputs": [],
   "source": []
  }
 ],
 "metadata": {
  "kernelspec": {
   "display_name": "Python 3",
   "language": "python",
   "name": "python3"
  },
  "language_info": {
   "codemirror_mode": {
    "name": "ipython",
    "version": 3
   },
   "file_extension": ".py",
   "mimetype": "text/x-python",
   "name": "python",
   "nbconvert_exporter": "python",
   "pygments_lexer": "ipython3",
   "version": "3.7.3"
  }
 },
 "nbformat": 4,
 "nbformat_minor": 2
}
